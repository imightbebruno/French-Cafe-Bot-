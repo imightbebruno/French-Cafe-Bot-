{
 "cells": [
  {
   "cell_type": "code",
   "execution_count": 1,
   "id": "1a722bf0",
   "metadata": {},
   "outputs": [],
   "source": [
    "#list of prices for different sizes, types of coffee, alternative milks, and reusable cup\n",
    "prices = {\n",
    "        'Regular': 0.6,\n",
    "        'Small': 0.0,\n",
    "        'Americano': 3.2,\n",
    "        'Mocha': 3.8,\n",
    "        'Latte': 3.6,\n",
    "        'Espresso': 2.8,\n",
    "        'Cappuccino': 3.6,\n",
    "        'Long Black': 3.2,\n",
    "        'Tea': 2.8,\n",
    "        'Plant Based Milk': 0.4,\n",
    "        'I’ll need a cup': 0.3,\n",
    "        'Brought my own': 0.0\n",
    "    }"
   ]
  },
  {
   "cell_type": "code",
   "execution_count": 2,
   "id": "0ac53856",
   "metadata": {},
   "outputs": [],
   "source": [
    "#first function of selection of options, user selects the size of the drink\n",
    "def get_size():\n",
    "  global total_cost\n",
    "  res = input('What size drink can I get for you? \\n[a] Regular \\n[b] Small \\n> ')\n",
    "  if res == 'a':\n",
    "    total_cost += prices['Regular']\n",
    "    return 'Regular'\n",
    "  if res == 'b':\n",
    "    total_cost += prices['Small']\n",
    "    return 'Small'\n",
    "  else: \n",
    "    print_message()\n",
    "    return get_size()"
   ]
  },
  {
   "cell_type": "code",
   "execution_count": 3,
   "id": "ad4c03c6",
   "metadata": {},
   "outputs": [],
   "source": [
    "#in case of wrong selection from the user, the following message is printed prompting the user to input again\n",
    "def print_message():\n",
    "  print(\"I'm sorry, I did not understand your selection. Can you please repeat yourself?\")"
   ]
  },
  {
   "cell_type": "code",
   "execution_count": 4,
   "id": "d0ab667d",
   "metadata": {},
   "outputs": [],
   "source": [
    "#user select the type of drink\n",
    "def get_drink_type():\n",
    "  global total_cost\n",
    "  res = input('What type of drink would you like? \\n[a] Americano \\n[b] Mocha \\n[c] Latte \\n[d] Espresso\\n[e] Cappuccino\\n[f] Long Black\\n[g] Tea\\n> ')\n",
    "  if res == 'a':\n",
    "    total_cost += prices['Americano']\n",
    "    return order_americano()\n",
    "  elif res == 'b':\n",
    "    total_cost += prices['Mocha']\n",
    "    return order_mocha()\n",
    "  elif res == 'c':\n",
    "    total_cost += prices['Latte']\n",
    "    return order_latte()\n",
    "  elif res == 'd':\n",
    "    total_cost += prices['Espresso']\n",
    "    return order_espresso()\n",
    "  elif res == 'e':\n",
    "    total_cost += prices['Cappuccino']\n",
    "    return order_cappuccino()\n",
    "  elif res == 'f':\n",
    "    total_cost += prices['Long Black']\n",
    "    return order_long_black()\n",
    "  elif res == 'g':\n",
    "    total_cost += prices['Tea']\n",
    "    return order_tea()\n",
    "  else: \n",
    "    print_message()\n",
    "    return get_drink_type()"
   ]
  },
  {
   "cell_type": "code",
   "execution_count": 5,
   "id": "e29f83d3",
   "metadata": {},
   "outputs": [],
   "source": [
    "#customizable options for Americano\n",
    "def order_americano():\n",
    "  while True:\n",
    "    res = input('Would you like your Americano black or with milk? \\n[a] Black Americano \\n[b] White Americano \\n> ')\n",
    "    if res == 'a':\n",
    "      return 'Black Americano'\n",
    "    if res == 'b':\n",
    "      return 'White Americano ' + order_dairy_or_plant_based_milk()\n",
    "  print_message()"
   ]
  },
  {
   "cell_type": "code",
   "execution_count": 6,
   "id": "212c82b8",
   "metadata": {},
   "outputs": [],
   "source": [
    "#customizable options for Mocha\n",
    "def order_mocha():\n",
    "  while True:\n",
    "    res = input('Would you like your Mocha to be sweeter with choc chips or bitter with cocoa powder? \\n[a] Sweet! \\n[b] Bitter! \\n> ')\n",
    "    if res == 'a':\n",
    "      return 'Sweet Mocha ' + order_dairy_or_plant_based_milk()\n",
    "    if res == 'b':\n",
    "      return 'Bitter Mocha ' + order_dairy_or_plant_based_milk()\n",
    "  print_message()"
   ]
  },
  {
   "cell_type": "code",
   "execution_count": 7,
   "id": "f812c404",
   "metadata": {},
   "outputs": [],
   "source": [
    "#customizable options for Latte\n",
    "def order_latte():\n",
    "  res = input('And what kind of milk for your latte? \\n[a] Dairy Milk \\n[b] Non-fat milk \\n[c] Plant Base Milk \\n> ')\n",
    "  if res == 'a':\n",
    "    return 'Latte with Dairy Milk'\n",
    "  if res == 'b':\n",
    "    return 'Latte with Non-fat Milk'\n",
    "  if res == 'c':\n",
    "    return 'Latte ' + order_plant_based_milk()\n",
    "  else: \n",
    "    print_message()\n",
    "    return order_latte()"
   ]
  },
  {
   "cell_type": "code",
   "execution_count": 8,
   "id": "a53599d6",
   "metadata": {},
   "outputs": [],
   "source": [
    "#order Espresso\n",
    "def order_espresso():\n",
    "  while True:\n",
    "      return 'Espresso ' \n",
    "      print_message()"
   ]
  },
  {
   "cell_type": "code",
   "execution_count": 9,
   "id": "21a24528",
   "metadata": {},
   "outputs": [],
   "source": [
    "#customizable options for Cappuccino\n",
    "def order_cappuccino():\n",
    "  res = input('And what kind of milk for your cappuccino? \\n[a] Dairy Milk \\n[b] Non-fat milk \\n[c] Plant Base Milk \\n> ')\n",
    "  if res == 'a':\n",
    "    return 'Cappuccino with Dairy Milk'\n",
    "  if res == 'b':\n",
    "    return 'Cappuccino with Non-fat Milk'\n",
    "  if res == 'c':\n",
    "    return 'Cappuccino ' + order_plant_based_milk()\n",
    "  else: \n",
    "    print_message()\n",
    "    return order_cappuccino()"
   ]
  },
  {
   "cell_type": "code",
   "execution_count": 10,
   "id": "5bfa67cd",
   "metadata": {},
   "outputs": [],
   "source": [
    "#oder a Long Black\n",
    "def order_long_black():\n",
    "  while True:\n",
    "      return 'Long Black ' \n",
    "      print_message()"
   ]
  },
  {
   "cell_type": "code",
   "execution_count": 11,
   "id": "634430ae",
   "metadata": {},
   "outputs": [],
   "source": [
    "#customizable options for Tea\n",
    "def order_tea():\n",
    "  res = input('And what kind of tea do you prefer? \\n[a] Breakfeast Tea \\n[b] Afternoon Tea \\n[c] Earl Grey Tea \\n[d] Green Tea \\n[e] Camomile Tea \\n> ')\n",
    "  if res == 'a':\n",
    "    return 'Breakfeast Tea ' + milk_for_tea()\n",
    "  if res == 'b':\n",
    "    return 'Afternoon Tea '+ milk_for_tea()\n",
    "  if res == 'c':\n",
    "    return 'Earl Grey Tea ' + milk_for_tea()\n",
    "  if res == 'd':\n",
    "    return 'Green Tea '\n",
    "  if res == 'e':\n",
    "    return 'Camomile Tea ' \n",
    "  else: \n",
    "    print_message()\n",
    "    return order_tea()"
   ]
  },
  {
   "cell_type": "code",
   "execution_count": 12,
   "id": "1b8efb4e",
   "metadata": {},
   "outputs": [],
   "source": [
    "#customizable options for milk options if Tea is ordered \n",
    "def milk_for_tea():\n",
    "  while True:\n",
    "    res = input('Would you like some milk with your tea? \\n[a] With milk \\n[b] No milk \\n> ')\n",
    "    if res == 'a':\n",
    "      return order_dairy_or_plant_based_milk()\n",
    "    if res == 'b':\n",
    "        return 'Tea with no milk then'\n",
    "    print_message()"
   ]
  },
  {
   "cell_type": "code",
   "execution_count": 13,
   "id": "54509082",
   "metadata": {},
   "outputs": [],
   "source": [
    "#user can select between Dairy or Plant Based Milk for different drinks\n",
    "def order_dairy_or_plant_based_milk():\n",
    "  while True:\n",
    "    res = input('Do you prefer dairy milk or plant based milk? \\n[a] Dairy Milk \\n[b] Plant Based Milk \\n> ')\n",
    "    if res == 'a':\n",
    "      return 'with Dairy Milk'\n",
    "    if res == 'b':\n",
    "        return order_plant_based_milk()\n",
    "    print_message()"
   ]
  },
  {
   "cell_type": "code",
   "execution_count": 14,
   "id": "d2cf41a5",
   "metadata": {},
   "outputs": [],
   "source": [
    "#if plant based is selected, the user needs to choose the specific milk\n",
    "def order_plant_based_milk():\n",
    "  global total_cost\n",
    "  total_cost += prices['Plant Based Milk']\n",
    "  while True:\n",
    "    res = input('What non-dairy milk would you like? \\n[a] Oat Milk \\n[b] Soy Milk \\n[c] Coconut Milk\\n[d] Almond Milk \\n> ')\n",
    "    if res == 'a':\n",
    "      return 'with Oat Milk'\n",
    "    if res == 'b':\n",
    "      return 'with Soy Milk'\n",
    "    if res == 'c':\n",
    "      return 'with Cononut Milk'\n",
    "    if res == 'd':\n",
    "      return 'with Almond Milk'\n",
    "  print_message()"
   ]
  },
  {
   "cell_type": "code",
   "execution_count": 15,
   "id": "a410579a",
   "metadata": {},
   "outputs": [],
   "source": [
    "#user select between a disposable or reusable cup\n",
    "def reusable_cup_option():\n",
    "  global total_cost\n",
    "  res = input('Would you like a plastic cup or did you bring your own reusable cup? \\n[a] I\\'ll need a cup. \\n[b] Brought my own! \\n> ')\n",
    "  if res == 'a':\n",
    "    total_cost += prices['I’ll need a cup']\n",
    "    print('Okay, no problem! We\\'ll get you a plastic cup.')\n",
    "  elif res == 'b':\n",
    "    total_cost += prices['Brought my own']\n",
    "    print('Great! We\\'ll fill up your reusable cup.')\n",
    "  else:\n",
    "    print_message()\n",
    "    return reusable_cup_option()"
   ]
  },
  {
   "cell_type": "code",
   "execution_count": 16,
   "id": "f8e161a8",
   "metadata": {},
   "outputs": [],
   "source": [
    "#main function of the program. Calls others functions\n",
    "def coffee_bot():\n",
    "  global total_cost\n",
    "  total_cost = 0\n",
    "  print('Welcome to the French Cafe!')\n",
    "  order_drink = 'yes'\n",
    "  drinks = []\n",
    "  while order_drink == 'yes':\n",
    "    size = get_size()\n",
    "    drink_type = get_drink_type()\n",
    "    reusable_cup_option()\n",
    "    drink = '{} {}'.format(size, drink_type)\n",
    "    print('Alright, that\\'s a {}!'.format(drink))\n",
    "    drinks.append(drink)\n",
    "    while True:\n",
    "      order_drink = input('Would you like anything else? (yes/no) \\n> ')\n",
    "      if order_drink in ['yes', 'no']:\n",
    "        break\n",
    "\n",
    "  print('Okay, so I have:')\n",
    "  for i, drink in enumerate(drinks, start=1):\n",
    "    print('{}. {}'.format(i, drink))\n",
    "\n",
    "#prints the order and the total cost to the user\n",
    "  name = input('Can I get your name, please?\\n> ')\n",
    "  print('Thanks, {}! Your total is £{:.2f}. Your drink will be ready shortly.'.format(name, total_cost))\n"
   ]
  },
  {
   "cell_type": "code",
   "execution_count": 17,
   "id": "18525533",
   "metadata": {
    "scrolled": false
   },
   "outputs": [
    {
     "name": "stdout",
     "output_type": "stream",
     "text": [
      "Welcome to the cafe!\n",
      "Okay, no problem! We'll get you a plastic cup.\n",
      "Alright, that's a Small Earl Grey Tea Tea with no milk then!\n",
      "Okay, no problem! We'll get you a plastic cup.\n",
      "Alright, that's a Regular Bitter Mocha with Dairy Milk!\n",
      "Okay, no problem! We'll get you a plastic cup.\n",
      "Alright, that's a Small Latte with Non-fat Milk!\n",
      "Okay, no problem! We'll get you a plastic cup.\n",
      "Alright, that's a Small Cappuccino with Non-fat Milk!\n",
      "Okay, no problem! We'll get you a plastic cup.\n",
      "Alright, that's a Regular Long Black !\n",
      "Great! We'll fill up your reusable cup.\n",
      "Alright, that's a Small Sweet Mocha with Soy Milk!\n",
      "Okay, no problem! We'll get you a plastic cup.\n",
      "Alright, that's a Regular White Americano with Dairy Milk!\n",
      "Okay, no problem! We'll get you a plastic cup.\n",
      "Alright, that's a Regular White Americano with Cononut Milk!\n",
      "Okay, no problem! We'll get you a plastic cup.\n",
      "Alright, that's a Small Long Black !\n",
      "Okay, so I have:\n",
      "1. Small Earl Grey Tea Tea with no milk then\n",
      "2. Regular Bitter Mocha with Dairy Milk\n",
      "3. Small Latte with Non-fat Milk\n",
      "4. Small Cappuccino with Non-fat Milk\n",
      "5. Regular Long Black \n",
      "6. Small Sweet Mocha with Soy Milk\n",
      "7. Regular White Americano with Dairy Milk\n",
      "8. Regular White Americano with Cononut Milk\n",
      "9. Small Long Black \n",
      "Thanks, Bruno! Your total is £36.00. Your drink will be ready shortly.\n"
     ]
    }
   ],
   "source": [
    "coffee_bot()"
   ]
  }
 ],
 "metadata": {
  "kernelspec": {
   "display_name": "Python 3 (ipykernel)",
   "language": "python",
   "name": "python3"
  },
  "language_info": {
   "codemirror_mode": {
    "name": "ipython",
    "version": 3
   },
   "file_extension": ".py",
   "mimetype": "text/x-python",
   "name": "python",
   "nbconvert_exporter": "python",
   "pygments_lexer": "ipython3",
   "version": "3.11.5"
  }
 },
 "nbformat": 4,
 "nbformat_minor": 5
}
